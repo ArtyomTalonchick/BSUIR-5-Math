{
 "cells": [
  {
   "cell_type": "markdown",
   "metadata": {},
   "source": [
    "# Решение краевыx задач. Методы коллокаций, наименьших квадратов и Галеркина\n",
    "## Задача\n",
    "$$\n",
    "\\begin{cases}  \n",
    "u(x)y''+ p(x)y=-1,     &x\\in[a,b],\n",
    "\\\\\n",
    "y(a) = A,\n",
    "\\\\\n",
    "y(b) = B\n",
    "\\end{cases}  \n",
    "$$\n",
    "\n",
    "### Определения\n",
    "- Граничные условия: \n",
    "$$\n",
    "\\begin{cases}  \n",
    "y(a) = A,\n",
    "\\\\\n",
    "y(b) = B\n",
    "\\end{cases}  \n",
    "$$\n",
    "- Однородные граничные условия:\n",
    "$$\n",
    "\\begin{cases}  \n",
    "y(a) = 0,\n",
    "\\\\\n",
    "y(b) = 0\n",
    "\\end{cases}  \n",
    "$$\n",
    "\n",
    "### Базисная система\n",
    "$j_{0}(x),j_{1}(x),...j_{n}(x)$ - базисная система, если:\n",
    "1. $j_{i}(x), i\\in[0,n]$ дважды непрерывно дифференцируемы\n",
    "2. $j_{0}(x)$ удовлетворяет граничному условию\n",
    "3. функции $j_{i}(x), i\\in[1,n]$ - линейно независимы на $[a, b]$ и удовлетворяют однородным граничным условиям\n",
    "\n",
    "\n",
    "### Вид решения\n",
    "Представим решение в виде линейной комбинации базисных функций\n",
    "$$\n",
    "y_{n} = j_{0}(x) + a_{1}j_{1}(x) + ... + a_{n-1}j_{n-1}(x)\n",
    "$$\n",
    "\n",
    "### Невязка\n",
    "$$\n",
    "Y(x, a_{1}, ..., a_{n-1}) = u(x)y''+ p(x)y + 1\n",
    "$$"
   ]
  },
  {
   "cell_type": "markdown",
   "metadata": {},
   "source": [
    "# Частный случай\n",
    "### Задача\n",
    "$$\n",
    "\\begin{cases}  \n",
    "u(x)y''+ p(x)y=-1,     &x\\in[-1,1],\n",
    "\\\\\n",
    "y(-1) = 0,\n",
    "\\\\\n",
    "y(1) = 0\n",
    "\\end{cases}  \n",
    "$$\n",
    "\n",
    "### Базис\n",
    "Возьмем базис:\n",
    "$$\n",
    "\\begin{cases}\n",
    "j_{0}(x)=0,\n",
    "\\\\\n",
    "j_{i}(x)=x^i(1-x),     &i=1,2,...\n",
    "\\end{cases}  \n",
    "$$\n",
    "\n",
    "### Вид решения\n",
    "Расчитаем производные.\n",
    "\n",
    "$$\n",
    "\\begin{cases}\n",
    "y_{n} = \\sum_{i=1}^{n-1}a_{i}(x^{i}-x^{i+1})\n",
    "\\\\\n",
    "y_{n}' = \\sum_{i=1}^{n-1}a_{i}(ix^{i-1}-(i+1)x^{i})\n",
    "\\\\\n",
    "y_{n}'' = -2a_{1} + \\sum_{i=2}^{n-1}a_{i}((i-1)ix^{i-2}-i(i+1)x^{i-1})\n",
    "\\end{cases}\n",
    "$$\n",
    "\n",
    "### Невязка\n",
    "$$\n",
    "Y(x, a_{1}, ..., a_{n-1}) = a_{1}(-2u(x)+ x(1-x)p(x)) + \\sum_{i=2}^{n-1}a_{i}(u(x)x^{i-2}((i-1)i-i(i+1)x) + p(x)x^{i}(1-x)) + 1\n",
    "$$"
   ]
  },
  {
   "cell_type": "code",
   "execution_count": 78,
   "metadata": {},
   "outputs": [],
   "source": [
    "import sympy\n",
    "import numpy\n",
    "import matplotlib.pyplot as plt\n",
    "from functools import reduce\n",
    "from prettytable import PrettyTable"
   ]
  },
  {
   "cell_type": "code",
   "execution_count": 170,
   "metadata": {},
   "outputs": [],
   "source": [
    "def u(x):\n",
    "    return 1\n",
    "def p(x):\n",
    "    return 1 + x**2\n",
    "def j(x, n):\n",
    "    return x**i * (1 - x**2) if x==0 else 0"
   ]
  },
  {
   "cell_type": "code",
   "execution_count": 82,
   "metadata": {},
   "outputs": [],
   "source": [
    "def get_y(n):\n",
    "    bases = get_bases(n)\n",
    "    parameters = get_parameters(n)\n",
    "    y = bases[0]\n",
    "    for i in range(n):\n",
    "        y += parameters[i]*bases[i+1]\n",
    "    return y"
   ]
  },
  {
   "cell_type": "code",
   "execution_count": 83,
   "metadata": {},
   "outputs": [],
   "source": [
    "def get_Y(n):\n",
    "    y = get_y(n) \n",
    "    return u * sympy.diff(y, x, 2) + p * y + 1"
   ]
  },
  {
   "cell_type": "markdown",
   "metadata": {},
   "source": [
    "## Метод коллокаций\n",
    "На отрезке $[-1,1]$ выбираем $n-1$ точек $a<x_{0}<x_{1}<...<x_{n-2}<b$ (точки коллокции). Возьмем $x_{i}=-1+(i+1){2\\over n}$ и приравняем невязку в этих точках к $0$:\n",
    "$$\n",
    "\\begin{cases}\n",
    "Y(x_{0}, a_{1}, ..., a_{n-1}) = 0,\n",
    "\\\\\n",
    "...\n",
    "\\\\\n",
    "Y(x_{n-2}, a_{1}, ..., a_{n-1}) = 0\n",
    "\\end{cases}\n",
    "=>\n",
    "M*A = B,где\n",
    "\\begin{cases}\n",
    "M_{i,0}= -2u(x_{i})+ x_{i}(1-x_{i})p(x_{i}), &i\\in[0,n-2],\n",
    "\\\\\n",
    "M_{i,j}= u(x_{i})x_{i}^{i-2}((i-1)i-i(i+1)x_{i}) + p(x_{i})x_{i}^{i}(1-x_{i}), &i\\in[0,n-2],j\\in[1,n-2]\n",
    "\\\\\n",
    "B_{i} = -1\n",
    "\\end{cases}\n",
    "$$\n",
    "Решая полученую систему найдем $a_{0}, ..., a_{n-1}$, а значит и преблеженное решение $y_{n}(x)$"
   ]
  },
  {
   "cell_type": "code",
   "execution_count": 175,
   "metadata": {},
   "outputs": [],
   "source": [
    "def collacation_method(n):\n",
    "    x = [-1 + (i+1)*2/(n) for i in range (n-1)]\n",
    "    matrix = numpy.zeros(shape=(n-1, n-1))\n",
    "    B = numpy.matrix([-1]*(n-1)).T\n",
    "    for i in range(n-1):\n",
    "        matrix[i][0] = -2 * u(x[i]) + x[i] * (1 - x[i]) * p(x[i])\n",
    "    for i in range(n-1):\n",
    "        for j in range(1,n-1):\n",
    "            matrix[i][j] = u(x[i]) * (x[i]**(i-2))*((i-1)*i-i*(i+1)*x[i]) +  p(x[i])*(x[i]**i)*(1 - x[i])\n",
    "#     return numpy.linalg.solve(matrix, B)\n",
    "    return matrix, B"
   ]
  },
  {
   "cell_type": "code",
   "execution_count": 176,
   "metadata": {},
   "outputs": [
    {
     "data": {
      "text/plain": [
       "(array([[-3.3056  ,  2.176   ,  2.176   ,  2.176   ],\n",
       "        [-2.2496  , -2.2496  , -2.2496  , -2.2496  ],\n",
       "        [-1.8336  ,  0.83328 ,  0.83328 ,  0.83328 ],\n",
       "        [-1.6736  , -0.602496, -0.602496, -0.602496]]), matrix([[-1],\n",
       "         [-1],\n",
       "         [-1],\n",
       "         [-1]]))"
      ]
     },
     "execution_count": 176,
     "metadata": {},
     "output_type": "execute_result"
    }
   ],
   "source": [
    "collacation_method(5)"
   ]
  },
  {
   "cell_type": "markdown",
   "metadata": {},
   "source": [
    "## Дискретный МНК\n",
    "\n",
    "На отрезке $[-1,1]$ выбираем $N$ точек $a<x_0<x_1<...<x_N<b$\n",
    "\n",
    "Минимизируем интеграл:\n",
    "$$\n",
    "S = \\sum_{i=1}^{N} Y^2(x_i, a_1, ..., a_{n-1})dx\n",
    "$$\n",
    "\n",
    "Для этого решим систему:\n",
    "\n",
    "$$\n",
    "\\begin{cases}  \n",
    "\\frac{dS}{d a_1} = 2 \\int_{-1}^1 Y(x, a_1, ..., a_{n-1}) \\frac{d Y(x, a_1, ..., a_{n-1})}{da_1}dx = 0,\n",
    "\\\\\n",
    "...\n",
    "\\\\\n",
    "\\frac{dS}{d a_{n-1}} = 2 \\int_{-1}^1 Y(x, a_1, ..., a_{n-1}) \\frac{d Y(x, a_1, ..., a_{n-1})}{d a_{n-1}}dx = 0\n",
    "\\end{cases} \n",
    "$$"
   ]
  },
  {
   "cell_type": "code",
   "execution_count": 87,
   "metadata": {},
   "outputs": [],
   "source": [
    "def integral_method(n):\n",
    "    system = [\n",
    "        sp.integrate(psi * psi.diff(ai), (x, A ,B)) for ai in coefs\n",
    "    ]\n",
    "    return sp.solve(system, coefs)"
   ]
  },
  {
   "cell_type": "code",
   "execution_count": 88,
   "metadata": {},
   "outputs": [
    {
     "ename": "NameError",
     "evalue": "name 'coefs' is not defined",
     "output_type": "error",
     "traceback": [
      "\u001b[0;31m---------------------------------------------------------------------------\u001b[0m",
      "\u001b[0;31mNameError\u001b[0m                                 Traceback (most recent call last)",
      "\u001b[0;32m<ipython-input-88-f2fd37900187>\u001b[0m in \u001b[0;36m<module>\u001b[0;34m\u001b[0m\n\u001b[0;32m----> 1\u001b[0;31m \u001b[0;34m[\u001b[0m\u001b[0msympy\u001b[0m\u001b[0;34m.\u001b[0m\u001b[0mintegrate\u001b[0m\u001b[0;34m(\u001b[0m\u001b[0mpsi\u001b[0m \u001b[0;34m*\u001b[0m \u001b[0mpsi\u001b[0m\u001b[0;34m.\u001b[0m\u001b[0mdiff\u001b[0m\u001b[0;34m(\u001b[0m\u001b[0mai\u001b[0m\u001b[0;34m)\u001b[0m\u001b[0;34m,\u001b[0m \u001b[0;34m(\u001b[0m\u001b[0mx\u001b[0m\u001b[0;34m,\u001b[0m \u001b[0mA\u001b[0m \u001b[0;34m,\u001b[0m\u001b[0mB\u001b[0m\u001b[0;34m)\u001b[0m\u001b[0;34m)\u001b[0m \u001b[0;32mfor\u001b[0m \u001b[0mai\u001b[0m \u001b[0;32min\u001b[0m \u001b[0mcoefs\u001b[0m\u001b[0;34m]\u001b[0m\u001b[0;34m\u001b[0m\u001b[0;34m\u001b[0m\u001b[0m\n\u001b[0m",
      "\u001b[0;31mNameError\u001b[0m: name 'coefs' is not defined"
     ]
    }
   ],
   "source": [
    "[sympy.integrate(psi * psi.diff(ai), (x, A ,B)) for ai in coefs]"
   ]
  }
 ],
 "metadata": {
  "kernelspec": {
   "display_name": "Python 3",
   "language": "python",
   "name": "python3"
  },
  "language_info": {
   "codemirror_mode": {
    "name": "ipython",
    "version": 3
   },
   "file_extension": ".py",
   "mimetype": "text/x-python",
   "name": "python",
   "nbconvert_exporter": "python",
   "pygments_lexer": "ipython3",
   "version": "3.6.8"
  }
 },
 "nbformat": 4,
 "nbformat_minor": 2
}
