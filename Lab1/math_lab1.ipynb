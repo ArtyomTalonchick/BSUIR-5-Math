{
 "cells": [
  {
   "cell_type": "markdown",
   "metadata": {},
   "source": [
    "# Решение краевыx задач. Методы коллокаций, наименьших квадратов и Галеркина\n",
    "## Задача\n",
    "$$\n",
    "\\begin{cases}  \n",
    "u(x)y''+ p(x)y=-1,     &x\\in[a,b],\n",
    "\\\\\n",
    "y(a) = A,\n",
    "\\\\\n",
    "y(b) = B\n",
    "\\end{cases}  \n",
    "$$\n",
    "\n",
    "### Определения\n",
    "- Граничные условия: \n",
    "$$\n",
    "\\begin{cases}  \n",
    "y(a) = A,\n",
    "\\\\\n",
    "y(b) = B\n",
    "\\end{cases}  \n",
    "$$\n",
    "- Однородные граничные условия:\n",
    "$$\n",
    "\\begin{cases}  \n",
    "y(a) = 0,\n",
    "\\\\\n",
    "y(b) = 0\n",
    "\\end{cases}  \n",
    "$$\n",
    "\n",
    "### Базисная система\n",
    "$j_{0}(x),j_{1}(x),...j_{n}(x)$ - базисная система, если:\n",
    "1. $j_{i}(x), i\\in[0,n]$ дважды непрерывно дифференцируемы\n",
    "2. $j_{0}(x)$ удовлетворяет граничному условию\n",
    "3. функции $j_{i}(x), i\\in[1,n]$ - линейно независимы на $[a, b]$ и удовлетворяют однородным граничным условиям\n",
    "\n",
    "\n",
    "### Вид решения\n",
    "Представим решение в виде линейной комбинации базисных функций\n",
    "$$\n",
    "y_{n} = j_{0}(x) + a_{1}j_{1}(x) + ... + a_{n}j_{n}(x)\n",
    "$$\n",
    "\n",
    "### Невязка\n",
    "$$\n",
    "Y(x, a_{1}, ..., a_{n}) = u(x)y''+ p(x)y + 1\n",
    "$$\n",
    "\n",
    "# Частный случай\n",
    "### Задача\n",
    "$$\n",
    "\\begin{cases}  \n",
    "u(x)y''+ p(x)y=-1,     &x\\in[-1,1],\n",
    "\\\\\n",
    "y(-1) = 0,\n",
    "\\\\\n",
    "y(1) = 0\n",
    "\\end{cases}  \n",
    "$$\n",
    "\n",
    "### Базис\n",
    "Возьмем базис:\n",
    "$$\n",
    "\\begin{cases}\n",
    "j_{0}(x)=0,\n",
    "\\\\\n",
    "j_{i}(x)=x^i(1-x),     &i=1,2,...\n",
    "\\end{cases}  \n",
    "$$\n",
    "\n",
    "### Вид решения\n",
    "Представим решение в виде линейной комбинации базисных функций\n",
    "$$\n",
    "y_{n} = \\sum_{i=1}^{n}a_{i}j_{i}(x)\n",
    "$$\n",
    "\n",
    "### Невязка\n",
    "$$\n",
    "Y(x, a_{1}, ..., a_{n}) = u(x)y''+ p(x)y + 1 = u(x)\\sum_{i=1}^{n}a_ij_{i}''(x) + p(x)\\sum_{i=1}^{n}a_{i}j_{i}(x) + 1 = \\sum_{i=1}^{n}a_i(u(x)j_i''(x)+p(x)j_i(x)) + 1 = \\sum_{i=1}^{n}a_i(\\alpha_i(x)) + 1\n",
    "\\\\ \n",
    " \\text{где }\\alpha_i(x)=u(x)\\cdot j_i''(x)+p(x)\\cdot j_i(x)\n",
    "$$"
   ]
  },
  {
   "cell_type": "code",
   "execution_count": 1,
   "metadata": {},
   "outputs": [],
   "source": [
    "import time\n",
    "import numpy\n",
    "import matplotlib.pyplot as plt\n",
    "from prettytable import PrettyTable"
   ]
  },
  {
   "cell_type": "code",
   "execution_count": 2,
   "metadata": {},
   "outputs": [],
   "source": [
    "def get_bases(x, i):\n",
    "    return x**i * (1 - x**2)\n",
    "def get_bases_2(x, i):\n",
    "    return i * (i-1) * x**(i-2) - (i+2) * (i+1) * x**(i)\n",
    "def get_alpha(x, i):\n",
    "    return get_u(x) * get_bases_2(x,i) + get_p(x) * get_bases(x,i)\n",
    "def get_y(x, a):\n",
    "    return sum(float(a[i]) * get_bases(x,i) for i in range(len(a)))"
   ]
  },
  {
   "cell_type": "markdown",
   "metadata": {},
   "source": [
    "## Метод коллокаций\n",
    "На отрезке $[-1,1]$ выбираем $n$ точек $a<x_{0}<x_{1}<...<x_{n-1}<b$ (точки коллокции). Возьмем $x_{i}=-1+(i+1){2\\over n+1}$ и приравняем невязку в этих точках к $0$:\n",
    "$$\n",
    "\\begin{cases}\n",
    "Y(x_{0}, a_{1}, ..., a_{n}) = 0,\n",
    "\\\\\n",
    "...\n",
    "\\\\\n",
    "Y(x_{n-1}, a_{1}, ..., a_{n}) = 0\n",
    "\\end{cases}\n",
    "=>\n",
    "M*A = B,где\n",
    "\\begin{cases}\n",
    "m_{i, j} =\\alpha_j(x_i),\n",
    "\\\\\n",
    "b_{i} = -1\n",
    "\\end{cases}\n",
    "$$"
   ]
  },
  {
   "cell_type": "code",
   "execution_count": 3,
   "metadata": {},
   "outputs": [],
   "source": [
    "def collacation_method(n):\n",
    "    x = [-1 + (i+1)*2/(n+1) for i in range (n)]\n",
    "    M = numpy.zeros(shape=(n, n))\n",
    "    B = numpy.matrix([-1]*(n)).T\n",
    "    for i in range(n):\n",
    "        for j in range(n):\n",
    "            M[i][j] = get_alpha(x[i], j)\n",
    "    return numpy.linalg.solve(M, B)"
   ]
  },
  {
   "cell_type": "markdown",
   "metadata": {},
   "source": [
    "### Дискретный МНК\n",
    "Выбирается $N > n$ точек и решается задача минимизации:\n",
    "$$\n",
    "S = \\sum_{i=1}^{N}Y^2(x_i, a_1, ..., a_n)\n",
    "=>\n",
    "\\begin{cases}  \n",
    "\\frac{dY^2}{d a_1} = 0\n",
    "\\\\\n",
    "...\n",
    "\\\\\n",
    "\\frac{dY^2}{d a_n} = 0\n",
    "\\end{cases}\n",
    "=>\n",
    "M*A = B,где\n",
    "\\begin{cases}\n",
    "m_{i, j} = \\sum_{k=1}^{N}\\alpha_i(x_k) \\cdot \\alpha_j(x_k)\n",
    "\\\\\n",
    "b_{i} = -\\sum_{k=1}^{N}\\alpha_i(x_k)\n",
    "\\end{cases}\n",
    "$$"
   ]
  },
  {
   "cell_type": "code",
   "execution_count": 137,
   "metadata": {},
   "outputs": [],
   "source": [
    "def discrete_MNK_method(n):\n",
    "    N = 500 #int(input('N: '))\n",
    "#     x = [-1 + (i+1)*2/(N+1) for i in range (N)]\n",
    "    x = numpy.linspace(-1, 1, N)\n",
    "    M = numpy.zeros(shape=(n, n))\n",
    "    i = 10\n",
    "    B = numpy.matrix([-numpy.sum(get_alpha(x, i)) for i in range(n)]).T\n",
    "    print(B[5]*B[1])\n",
    "    for i in range(n):\n",
    "        for j in range(i+1):\n",
    "#             M[i][j] = numpy.sum(get_alpha(x[k], i) * get_alpha(x[k], j) for k in range(N))\n",
    "            M[i][j] = numpy.sum(get_alpha(x,i) * get_alpha(x, j))\n",
    "    for i in range(n):\n",
    "        for j in range(i+1,n):\n",
    "            M[i][j] = M[j][i]\n",
    "    return numpy.linalg.solve(M, B)"
   ]
  },
  {
   "cell_type": "markdown",
   "metadata": {},
   "source": [
    "### Метод Галёркина"
   ]
  },
  {
   "cell_type": "markdown",
   "metadata": {},
   "source": [
    "$$\n",
    "\\begin{cases}  \n",
    "\\int_{-1}^1 Y(x, a_1, ..., a_n)\\cdot j_1(x)dx = 0\n",
    "\\\\\n",
    "...\n",
    "\\\\\n",
    "\\int_{-1}^1 Y(x, a_1, ..., a_n)\\cdot j_n(x)dx = 0\n",
    "\\end{cases}\n",
    "=>\n",
    "M*A = B,где\n",
    "\\begin{cases}\n",
    "m_{i, j} = \\int_{-1}^1 \\alpha_j(x) \\cdot j_i(x) dx\n",
    "\\\\\n",
    "b_{i} = - \\int_{-1}^1 j_i(x) dx\n",
    "\\end{cases}\n",
    "$$"
   ]
  },
  {
   "cell_type": "code",
   "execution_count": 35,
   "metadata": {},
   "outputs": [],
   "source": [
    "def galerkin_method(n):\n",
    "    count = 100\n",
    "    x = numpy.linspace(-1, 1, count)\n",
    "    M = numpy.zeros(shape=(n, n))\n",
    "    B = numpy.matrix([-sum([get_bases(x[k],i) *(2/count)  for k in range(count-1)]) for i in range(n)]).T\n",
    "    for i in range(n):\n",
    "        for j in range(n):\n",
    "            M[i][j] = sum([get_alpha(x[k], j) * get_bases(x[k],i) *(2/count)  for k in range(count-1)])\n",
    "    return numpy.linalg.solve(M, B)"
   ]
  },
  {
   "cell_type": "code",
   "execution_count": 36,
   "metadata": {},
   "outputs": [],
   "source": [
    "# def get_u(x):\n",
    "#     return numpy.sin(23)\n",
    "# def get_p(x):\n",
    "#     return 1 + numpy.cos(23) * x**2\n",
    "def get_u(x):\n",
    "    return 1\n",
    "def get_p(x):\n",
    "    return 1 + x**2"
   ]
  },
  {
   "cell_type": "code",
   "execution_count": 138,
   "metadata": {},
   "outputs": [
    {
     "name": "stdout",
     "output_type": "stream",
     "text": [
      "[[2.90805684e-25]]\n",
      "+---------------------+--------------------+---------------------+\n",
      "|        Method       |       Max y        |         Time        |\n",
      "+---------------------+--------------------+---------------------+\n",
      "| discrete_MNK_method | 0.9320537183284611 | 0.45746517181396484 |\n",
      "+---------------------+--------------------+---------------------+\n"
     ]
    },
    {
     "data": {
      "image/png": "[encoded data removed]",
      "text/plain": [
       "<Figure size 432x288 with 1 Axes>"
      ]
     },
     "metadata": {
      "needs_background": "light"
     },
     "output_type": "display_data"
    },
    {
     "name": "stdout",
     "output_type": "stream",
     "text": [
      "CPU times: user 893 ms, sys: 784 ms, total: 1.68 s\n",
      "Wall time: 628 ms\n"
     ]
    }
   ],
   "source": [
    "%%time\n",
    "n = 100\n",
    "\n",
    "table = PrettyTable()\n",
    "table.field_names = ['Method', 'Max y', 'Time']\n",
    "xs = numpy.linspace(-1, 1)\n",
    "\n",
    "# for solve in [collacation_method, discrete_MNK_method, galerkin_method]:\n",
    "for solve in [discrete_MNK_method]:\n",
    "    start_time = time.time()\n",
    "    a = solve(n)\n",
    "    end_time = time.time()\n",
    "    ys = [get_y(xi, a) for xi in xs]\n",
    "    table.add_row([solve.__name__, get_y(0, a), end_time - start_time])\n",
    "    plt.plot(xs, ys, label=solve.__name__)\n",
    "\n",
    "print(table)\n",
    "plt.grid()\n",
    "plt.legend()\n",
    "plt.show()"
   ]
  },
  {
   "cell_type": "code",
   "execution_count": null,
   "metadata": {},
   "outputs": [],
   "source": []
  }
 ],
 "metadata": {
  "kernelspec": {
   "display_name": "Python 3",
   "language": "python",
   "name": "python3"
  },
  "language_info": {
   "codemirror_mode": {
    "name": "ipython",
    "version": 3
   },
   "file_extension": ".py",
   "mimetype": "text/x-python",
   "name": "python",
   "nbconvert_exporter": "python",
   "pygments_lexer": "ipython3",
   "version": "3.7.3"
  }
 },
 "nbformat": 4,
 "nbformat_minor": 2
}
