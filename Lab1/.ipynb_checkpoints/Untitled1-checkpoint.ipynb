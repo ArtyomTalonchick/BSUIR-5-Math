{
 "cells": [
  {
   "cell_type": "code",
   "execution_count": 40,
   "metadata": {},
   "outputs": [],
   "source": [
    "import time\n",
    "import numpy\n",
    "import sympy\n",
    "import matplotlib.pyplot as plt\n",
    "from prettytable import PrettyTable"
   ]
  },
  {
   "cell_type": "code",
   "execution_count": 41,
   "metadata": {},
   "outputs": [],
   "source": [
    "x, k = sympy.symbols('x k')"
   ]
  },
  {
   "cell_type": "markdown",
   "metadata": {},
   "source": [
    "# Решение краевыx задач. Методы коллокаций, наименьших квадратов и Галеркина\n",
    "## Задача\n",
    "$$\n",
    "\\begin{cases}  \n",
    "u(x)y''+ p(x)y=-1,     &x\\in[a,b],\n",
    "\\\\\n",
    "y(a) = A,\n",
    "\\\\\n",
    "y(b) = B\n",
    "\\end{cases}  \n",
    "$$\n",
    "\n",
    "### Определения\n",
    "- Граничные условия: \n",
    "$$\n",
    "\\begin{cases}  \n",
    "y(a) = A,\n",
    "\\\\\n",
    "y(b) = B\n",
    "\\end{cases}  \n",
    "$$\n",
    "- Однородные граничные условия:\n",
    "$$\n",
    "\\begin{cases}  \n",
    "y(a) = 0,\n",
    "\\\\\n",
    "y(b) = 0\n",
    "\\end{cases}  \n",
    "$$\n",
    "\n",
    "### Базисная система\n",
    "$j_{0}(x),j_{1}(x),...j_{n}(x)$ - базисная система, если:\n",
    "1. $j_{i}(x), i\\in[0,n]$ дважды непрерывно дифференцируемы\n",
    "2. $j_{0}(x)$ удовлетворяет граничному условию\n",
    "3. функции $j_{i}(x), i\\in[1,n]$ - линейно независимы на $[a, b]$ и удовлетворяют однородным граничным условиям\n",
    "\n",
    "\n",
    "### Вид решения\n",
    "Представим решение в виде линейной комбинации базисных функций\n",
    "$$\n",
    "y_{n} = j_{0}(x) + a_{1}j_{1}(x) + ... + a_{n}j_{n}(x)\n",
    "$$\n",
    "\n",
    "### Невязка\n",
    "$$\n",
    "Y(x, a_{1}, ..., a_{n}) = u(x)y''+ p(x)y + 1\n",
    "$$\n",
    "\n",
    "####  Значение коэффициентов в невязке\n",
    "При $a_i$\n",
    "$$\n",
    "m_i = u(x) \\cdot j_i'' + p(x) \\cdot j_i\n",
    "$$\n",
    "Свободный член\n",
    "$$\n",
    "b = 1\n",
    "$$\n",
    "\n",
    "# Частный случай\n",
    "### Задача\n",
    "$$\n",
    "\\begin{cases}  \n",
    "u(x)y''+ p(x)y=-1,     &x\\in[-1,1],\n",
    "\\\\\n",
    "y(-1) = 0,\n",
    "\\\\\n",
    "y(1) = 0\n",
    "\\end{cases}  \n",
    "$$\n",
    "\n",
    "### Базис\n",
    "Возьмем базис:\n",
    "$$\n",
    "\\begin{cases}\n",
    "j_{0}(x)=0,\n",
    "\\\\\n",
    "j_{i}(x)=x^i(1-x),     &i=1,2,...\n",
    "\\end{cases}  \n",
    "$$"
   ]
  },
  {
   "cell_type": "code",
   "execution_count": 42,
   "metadata": {},
   "outputs": [],
   "source": [
    "base_expr = x**k * (1 - x**2)\n",
    "base_func = sympy.lambdify((x, k), base_expr)\n",
    "ai_expr = 0\n",
    "ai = 0"
   ]
  },
  {
   "cell_type": "markdown",
   "metadata": {},
   "source": [
    "## Метод коллокаций\n",
    "На отрезке $[-1,1]$ выбираем $n$ точек $a<x_{0}<x_{1}<...<x_{n-1}<b$ (точки коллокции). Возьмем $x_{i}=-1+(i+1){2\\over n+1}$ и приравняем невязку в этих точках к $0$:\n",
    "$$\n",
    "\\begin{cases}\n",
    "Y(x_{0}, a_{1}, ..., a_{n}) = 0,\n",
    "\\\\\n",
    "...\n",
    "\\\\\n",
    "Y(x_{n-1}, a_{1}, ..., a_{n}) = 0\n",
    "\\end{cases}\n",
    "=>\n",
    "M*A = B,где\n",
    "\\begin{cases}\n",
    "m_{i, j} = m_j(x_i) = u(x)y''+ p(x)y + 1,\n",
    "\\\\\n",
    "b_{i} = -1\n",
    "\\end{cases}\n",
    "$$"
   ]
  },
  {
   "cell_type": "code",
   "execution_count": 64,
   "metadata": {},
   "outputs": [],
   "source": [
    "def collacation_method(n):\n",
    "    B = numpy.matrix([-1]*(n)).T\n",
    "    xi = [-1 + (i+1)*2/(n+1) for i in range (n)]\n",
    "    M = numpy.zeros(shape=(n, n))\n",
    "    for i in range(n):\n",
    "        for j in range(n):\n",
    "            M[i][j] = ai(xi[i], j)\n",
    "    return numpy.linalg.solve(M, B)"
   ]
  },
  {
   "cell_type": "markdown",
   "metadata": {},
   "source": [
    "### Дискретный МНК\n",
    "Выбирается $N > n$ точек и решается задача минимизации:\n",
    "$$\n",
    "S = \\sum_{i=1}^{N}Y^2(x_i, a_1, ..., a_n)\n",
    "=>\n",
    "\\begin{cases}  \n",
    "\\frac{dY^2}{d a_1} = 0\n",
    "\\\\\n",
    "...\n",
    "\\\\\n",
    "\\frac{dY^2}{d a_n} = 0\n",
    "\\end{cases}\n",
    "=>\n",
    "M*A = B,где\n",
    "\\begin{cases}\n",
    "m'_{i, j} = \\sum_{i = 0}^N m_i(x_i) \\cdot m_j(x_i)\n",
    "\\\\\n",
    "b'_{i} = -\\sum_{i = 0}^N m_i(x_i)\n",
    "\\end{cases}\n",
    "$$\n"
   ]
  },
  {
   "cell_type": "code",
   "execution_count": 44,
   "metadata": {},
   "outputs": [],
   "source": [
    "def discrete_LSM_method(n):\n",
    "    points_amount = int(input('Количество точек для дискретного МНК: '))\n",
    "    points = numpy.linspace(-1, 1, points_amount + points_amount % 2)\n",
    "    expr = -ai_expr\n",
    "    bi = sympy.lambdify((x, k), expr)\n",
    "    \n",
    "    matrix = numpy.zeros(shape=(n, n))\n",
    "    b = numpy.zeros(shape=(n, 1))\n",
    "    \n",
    "    # fill a half of matrix\n",
    "    for i in range(n):\n",
    "        for j in range(i + 1):\n",
    "            matrix[i][j] = sum(ai(p, i) * ai(p, j) for p in points)\n",
    "        b[i] = sum(bi(p, i) for p in points)\n",
    "    \n",
    "    # copy values for another half of matrix\n",
    "    for i in range(n):\n",
    "        for j in range(n-1, i, -1):\n",
    "            matrix[i][j] = matrix[j][i]\n",
    "\n",
    "    return numpy.linalg.solve(matrix, b)"
   ]
  },
  {
   "cell_type": "markdown",
   "metadata": {},
   "source": [
    "### Метод Галёркина"
   ]
  },
  {
   "cell_type": "markdown",
   "metadata": {},
   "source": [
    "$$\n",
    "\\int_{-1}^1 Y(x, a_1, ..., a_n)\\cdot j_1(x)dx = 0\n",
    "$$\n",
    "$$\n",
    "................................\n",
    "$$\n",
    "$$\n",
    "\\int_{-1}^1 Y(x, a_1, ..., a_n)\\cdot j_n(x)dx = 0\n",
    "$$\n",
    "\n",
    "$$\n",
    "M_{i,j} = \\int_{-1}^1 a_j(x) \\cdot j_i(x) dx\n",
    "$$\n",
    "\n",
    "Вектор свободных членов:\n",
    "$$\n",
    "b_i = \\int_{-1}^1 f(x) \\cdot j_i(x) dx\n",
    "$$\n"
   ]
  },
  {
   "cell_type": "code",
   "execution_count": 45,
   "metadata": {},
   "outputs": [],
   "source": [
    "def galerkin_method(n):\n",
    "    d1, d2 = sympy.symbols('d1 d2')\n",
    "    expr = ai(x, d1) * base_func(x, d2)\n",
    "    func = sympy.lambdify((x, d1, d2), expr)\n",
    "    \n",
    "    bi_expr = -base_func(x, k)\n",
    "    bi = sympy.lambdify((x, k), bi_expr)\n",
    "    \n",
    "    matrix = numpy.zeros(shape=(n, n))\n",
    "    b = numpy.zeros(shape=(n, 1))\n",
    "    \n",
    "    points = numpy.linspace(-1, 1, 100)\n",
    "    for i in range(n):\n",
    "        for j in range(n):\n",
    "            matrix[i][j] = numpy.trapz(numpy.array([func(p, j, i) for p in points]))\n",
    "        b[i] = numpy.trapz(numpy.array([bi(p, i) for p in points]))\n",
    "        \n",
    "    return numpy.linalg.solve(matrix, b)"
   ]
  },
  {
   "cell_type": "code",
   "execution_count": 65,
   "metadata": {},
   "outputs": [
    {
     "name": "stdout",
     "output_type": "stream",
     "text": [
      "Количество точек для дискретного МНК: 11\n",
      "+---------------------+---------------------+-----------------------+\n",
      "|        Method       |        Max y        |          Time         |\n",
      "+---------------------+---------------------+-----------------------+\n",
      "|  collacation_method |  0.932054700197157  | 0.0003180503845214844 |\n",
      "| discrete_LSM_method | [0.932053569870002] |   1.4291558265686035  |\n",
      "|   galerkin_method   | [0.932053711472878] |  0.06113457679748535  |\n",
      "+---------------------+---------------------+-----------------------+\n"
     ]
    },
    {
     "data": {
      "image/png": "[encoded data removed]",
      "text/plain": [
       "<Figure size 432x288 with 1 Axes>"
      ]
     },
     "metadata": {
      "needs_background": "light"
     },
     "output_type": "display_data"
    }
   ],
   "source": [
    "tt = 1\n",
    "qq = 1 + x**2\n",
    "n = 10\n",
    "\n",
    "solvers = [collacation_method, discrete_LSM_method, galerkin_method]\n",
    "global t, q, f, ai, ai_expr\n",
    "t = sympy.lambdify(x, tt)\n",
    "q = sympy.lambdify(x, qq)\n",
    "ai_expr = t(x) * sympy.diff(base_expr, x, x) + q(x) * base_expr\n",
    "ai = sympy.lambdify((x, k), ai_expr)\n",
    "    \n",
    "table = PrettyTable()\n",
    "table.field_names = ['Method', 'Max y', 'Time']\n",
    "for num, func in enumerate(solvers):\n",
    "    start = time.time()\n",
    "    ans = func(n)\n",
    "    end = time.time()\n",
    "    expr = 0\n",
    "    for i in range(len(ans)):\n",
    "        expr += ans[i] * (x**(i) - x**(i+2))\n",
    "    func = sympy.lambdify(x, expr)\n",
    "    xs = numpy.linspace(-1, 1)\n",
    "    ys = numpy.array([func(xi) for xi in xs])\n",
    "    max_y = func(0)\n",
    "    plt.plot(xs, ys, label=solvers[num].__name__)\n",
    "        \n",
    "    table.add_row([\n",
    "        solvers[num].__name__, \n",
    "        max_y, \n",
    "        end - start\n",
    "    ])\n",
    "        \n",
    "print(table)\n",
    "plt.grid()\n",
    "plt.legend()\n",
    "plt.show()"
   ]
  },
  {
   "cell_type": "code",
   "execution_count": null,
   "metadata": {},
   "outputs": [],
   "source": []
  }
 ],
 "metadata": {
  "kernelspec": {
   "display_name": "Python 3",
   "language": "python",
   "name": "python3"
  },
  "language_info": {
   "codemirror_mode": {
    "name": "ipython",
    "version": 3
   },
   "file_extension": ".py",
   "mimetype": "text/x-python",
   "name": "python",
   "nbconvert_exporter": "python",
   "pygments_lexer": "ipython3",
   "version": "3.6.8"
  }
 },
 "nbformat": 4,
 "nbformat_minor": 2
}
