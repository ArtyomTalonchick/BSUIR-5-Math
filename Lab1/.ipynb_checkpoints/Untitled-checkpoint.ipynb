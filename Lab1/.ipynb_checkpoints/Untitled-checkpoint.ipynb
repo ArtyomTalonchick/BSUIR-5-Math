{
 "cells": [
  {
   "cell_type": "markdown",
   "metadata": {},
   "source": [
    "# РЕШЕНИЕ КРАЕВЫХ ЗАДАЧ МЕТОДОМ РАЗНОСТНЫХ АППРОКСИМАЦИЙ"
   ]
  },
  {
   "cell_type": "markdown",
   "metadata": {},
   "source": [
    "# Решение краевыx задач. Методы коллокаций, наименьших квадратов и Галеркина\n",
    "## Задача\n",
    "$$\n",
    "\\begin{cases}  \n",
    "u(x)y''+ p(x)y=-1,     &x\\in[a,b],\n",
    "\\\\\n",
    "y(a) = A,\n",
    "\\\\\n",
    "y(b) = B\n",
    "\\end{cases}  \n",
    "$$\n",
    "\n",
    "### Определения\n",
    "- Граничные условия: \n",
    "$$\n",
    "\\begin{cases}  \n",
    "y(a) = A,\n",
    "\\\\\n",
    "y(b) = B\n",
    "\\end{cases}  \n",
    "$$\n",
    "- Однородные граничные условия:\n",
    "$$\n",
    "\\begin{cases}  \n",
    "y(a) = 0,\n",
    "\\\\\n",
    "y(b) = 0\n",
    "\\end{cases}  \n",
    "$$\n",
    "\n",
    "### Базисная система\n",
    "$j_{0}(x),j_{1}(x),...j_{n}(x)$ - базисная система, если:\n",
    "1. $j_{i}(x), i\\in[0,n]$ дважды непрерывно дифференцируемы\n",
    "2. $j_{0}(x)$ удовлетворяет граничному условию\n",
    "3. функции $j_{i}(x), i\\in[1,n]$ - линейно независимы на $[a, b]$ и удовлетворяют однородным граничным условиям\n",
    "\n",
    "\n",
    "### Вид решения\n",
    "Представим решение в виде линейной комбинации базисных функций\n",
    "$$\n",
    "y_{n} = j_{0}(x) + a_{1}j_{1}(x) + ... + a_{n}j_{n}(x)\n",
    "$$\n",
    "\n",
    "### Невязка\n",
    "$$\n",
    "Y(x, a_{1}, ..., a_{n}) = u(x)y''+ p(x)y + 1\n",
    "$$"
   ]
  },
  {
   "cell_type": "markdown",
   "metadata": {},
   "source": [
    "# Частный случай\n",
    "### Задача\n",
    "$$\n",
    "\\begin{cases}  \n",
    "u(x)y''+ p(x)y=-1,     &x\\in[-1,1],\n",
    "\\\\\n",
    "y(-1) = 0,\n",
    "\\\\\n",
    "y(1) = 0\n",
    "\\end{cases}  \n",
    "$$\n",
    "\n",
    "### Базис\n",
    "Возьмем базис:\n",
    "$$\n",
    "\\begin{cases}\n",
    "j_{0}(x)=0,\n",
    "\\\\\n",
    "j_{i}(x)=x^i(1-x),     &i=1,2,...\n",
    "\\end{cases}  \n",
    "$$"
   ]
  },
  {
   "cell_type": "code",
   "execution_count": 49,
   "metadata": {},
   "outputs": [],
   "source": [
    "import sympy\n",
    "import numpy\n",
    "import matplotlib.pyplot as plt\n",
    "from functools import reduce\n",
    "from prettytable import PrettyTable\n",
    "\n",
    "x = sympy.symbols('x')"
   ]
  },
  {
   "cell_type": "code",
   "execution_count": 50,
   "metadata": {},
   "outputs": [],
   "source": [
    "def get_bases(n):\n",
    "    return [x**i * (1 - x**2) for i in range(n)]\n",
    "\n",
    "def get_coefs(n):\n",
    "    return sympy.symbols('a1:%s' % (n+1))"
   ]
  },
  {
   "cell_type": "markdown",
   "metadata": {},
   "source": [
    "## Способы решение краевой задачи"
   ]
  },
  {
   "cell_type": "markdown",
   "metadata": {},
   "source": [
    "### Метод коллокаций"
   ]
  },
  {
   "cell_type": "markdown",
   "metadata": {},
   "source": [
    "## Метод коллокаций\n",
    "На отрезке $[-1,1]$ выбираем $n$ точек $a<x_{0}<x_{1}<...<x_{n-1}<b$ (точки коллокции). Возьмем $x_{i}=-1+(i+1){2\\over n}$ и приравняем невязку в этих точках к $0$:\n",
    "$$\n",
    "\\begin{cases}\n",
    "Y(x_{0}, a_{1}, ..., a_{n}) = 0,\n",
    "\\\\\n",
    "...\n",
    "\\\\\n",
    "Y(x_{n-1}, a_{1}, ..., a_{n}) = 0\n",
    "\\end{cases}\n",
    "$$\n",
    "Решая полученую систему найдем $a_{0}, ..., a_{n-1}$, а значит и преблеженное решение $y_{n}(x)$"
   ]
  },
  {
   "cell_type": "code",
   "execution_count": 51,
   "metadata": {},
   "outputs": [],
   "source": [
    "def collocation_method(n, Y, coefs, *args):\n",
    "    points = numpy.linspace(-1, 1, n + 2)\n",
    "    psi_func = sympy.lambdify(x, Y)\n",
    "    system = [\n",
    "        psi_func(i) for i in points[1:-1]\n",
    "    ]\n",
    "    return sympy.solve(system, coefs)"
   ]
  },
  {
   "cell_type": "markdown",
   "metadata": {},
   "source": [
    "### Дискретный МНК"
   ]
  },
  {
   "cell_type": "markdown",
   "metadata": {},
   "source": [
    "Выбирается $N > n$ точек и решается задача минимизации:\n",
    "\n",
    "$$\n",
    "S = \\sum_{i=1}^{N}Y^2(x_i, a_1, ..., a_n)\n",
    "$$\n",
    "\n",
    "Для её решение решается система:\n",
    "\n",
    "$$\n",
    "\\begin{cases}  \n",
    "\\frac{dS}{d a_1} = 0\n",
    "\\\\\n",
    "...\n",
    "\\\\\n",
    "\\frac{dS}{d a_n} = 0\n",
    "\\end{cases} \n",
    "$$"
   ]
  },
  {
   "cell_type": "code",
   "execution_count": 52,
   "metadata": {},
   "outputs": [],
   "source": [
    "def discrete_LSM_method(n, Y, coefs, *args):\n",
    "    N = int(input('N: '))\n",
    "    points = numpy.linspace(-1, 1, N + 2)\n",
    "    S = sum(Y.subs(x, i)**2 for i in points[1:-1])\n",
    "    system = [\n",
    "        S.diff(ai) for ai in coefs\n",
    "    ]\n",
    "    return sympy.solve(system, coefs)"
   ]
  },
  {
   "cell_type": "markdown",
   "metadata": {},
   "source": [
    "### Метод Галёркина"
   ]
  },
  {
   "cell_type": "markdown",
   "metadata": {},
   "source": [
    "$$\n",
    "\\begin{cases}  \n",
    "\\int_{-1}^1 Y(x, a_1, ..., a_n)\\cdot j_1(x)dx = 0\n",
    "\\\\\n",
    "...\n",
    "\\\\\n",
    "\\int_{-1}^1 Y(x, a_1, ..., a_n)\\cdot j_n(x)dx = 0\n",
    "\\end{cases} \n",
    "$$"
   ]
  },
  {
   "cell_type": "code",
   "execution_count": 53,
   "metadata": {},
   "outputs": [],
   "source": [
    "def galerkin_method(n, Y, coefs, base_system):\n",
    "    system = [\n",
    "        sympy.integrate(Y * base_system[i], (x, -1, 1)) for i in range(n)\n",
    "    ]\n",
    "    return sympy.solve(system, coefs)"
   ]
  },
  {
   "cell_type": "markdown",
   "metadata": {},
   "source": [
    "## Solver"
   ]
  },
  {
   "cell_type": "code",
   "execution_count": 54,
   "metadata": {},
   "outputs": [
    {
     "name": "stdout",
     "output_type": "stream",
     "text": [
      "N: 11\n"
     ]
    },
    {
     "data": {
      "image/png": "[encoded data removed]",
      "text/plain": [
       "<Figure size 432x288 with 1 Axes>"
      ]
     },
     "metadata": {
      "needs_background": "light"
     },
     "output_type": "display_data"
    },
    {
     "name": "stdout",
     "output_type": "stream",
     "text": [
      "+---------------------+--------+----------+-----+-----------+------+-----------+-----+----------+------+----------+-----+\n",
      "|         Name        | max(y) |    a1    |  a2 |     a3    |  a4  |     a5    |  a6 |    a7    |  a8  |    a9    | a10 |\n",
      "+---------------------+--------+----------+-----+-----------+------+-----------+-----+----------+------+----------+-----+\n",
      "|  collocation_method | 0.932  | 0.932055 | 0.0 | -0.033973 | 0.0  | -0.031142 | 0.0 | 0.000969 | 0.0  | 0.00033  | 0.0 |\n",
      "| discrete_LSM_method | 0.932  | 0.932054 | 0.0 | -0.033973 | -0.0 | -0.031143 | 0.0 | 0.000971 | -0.0 | 0.000328 | 0.0 |\n",
      "|   galerkin_method   | 0.932  | 0.932054 | 0.0 | -0.033973 | 0.0  | -0.031148 | 0.0 | 0.000984 | 0.0  | 0.000315 | 0.0 |\n",
      "+---------------------+--------+----------+-----+-----------+------+-----------+-----+----------+------+----------+-----+\n"
     ]
    }
   ],
   "source": [
    "t = 1\n",
    "q = 1 + x**2\n",
    "n = 10\n",
    "    \n",
    "solvers = [collocation_method, discrete_LSM_method, galerkin_method]\n",
    "    \n",
    "# создание базисный фукнций\n",
    "base_system = get_bases(n)\n",
    "coefs = get_coefs(n)\n",
    "    \n",
    "# создание аппроксимации y и выражениия пси\n",
    "yn = reduce(lambda acc, t: acc + t[0]*t[1], zip(coefs, base_system), 0)\n",
    "Y = t * yn.diff(x, x) + q * yn + 1\n",
    "    \n",
    "# создание таблицы\n",
    "table = PrettyTable()\n",
    "table.field_names = ['Name', 'max(y)'] + ['a%s' % (i + 1) for i in range(n)]\n",
    "    \n",
    "# решение задачи (нахождение коэффициентов)\n",
    "for func in solvers:\n",
    "    answer = func(n, Y, coefs, base_system)\n",
    "    # print(answer)\n",
    "        \n",
    "    y = sympy.lambdify(x, yn.subs(answer))\n",
    "    xs = numpy.linspace(-1, 1)\n",
    "    ys = numpy.array([y(i) for i in xs])\n",
    "    plt.plot(xs, ys, label=func.__name__)\n",
    "        \n",
    "    table.add_row([func.__name__, round(max(ys), 3), *list(map(lambda x: round(x, 6),answer.values()))])\n",
    "        \n",
    "plt.grid()\n",
    "plt.legend()\n",
    "plt.show()\n",
    "print(table)"
   ]
  },
  {
   "cell_type": "code",
   "execution_count": null,
   "metadata": {},
   "outputs": [],
   "source": []
  }
 ],
 "metadata": {
  "kernelspec": {
   "display_name": "Python 3",
   "language": "python",
   "name": "python3"
  },
  "language_info": {
   "codemirror_mode": {
    "name": "ipython",
    "version": 3
   },
   "file_extension": ".py",
   "mimetype": "text/x-python",
   "name": "python",
   "nbconvert_exporter": "python",
   "pygments_lexer": "ipython3",
   "version": "3.6.8"
  }
 },
 "nbformat": 4,
 "nbformat_minor": 2
}
