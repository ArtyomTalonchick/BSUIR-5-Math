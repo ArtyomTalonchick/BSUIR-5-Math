{
 "cells": [
  {
   "cell_type": "markdown",
   "metadata": {},
   "source": [
    "# Решение краевыx задач методом разностных аппроксимаций\n",
    "## Задача\n",
    "$$\n",
    "\\begin{cases}  \n",
    "u(x)y''+ p(x)y=-1,     &x\\in[a,b],\n",
    "\\\\\n",
    "y(a) = A,\n",
    "\\\\\n",
    "y(b) = B,\n",
    "\\end{cases}  \n",
    "$$\n",
    "\n",
    "### Разбиение\n",
    "Разобъем отрезок $[a,b]$ на $n$ одинаковых частей с шагом $h={b-a\\over n}$ точками $a=x_{0}<x_{1}<x_{2}<...<x_{n}=b$, где  $x_{i}=a+ih$ и $y_{i}=y(x_{i})$\n",
    "\n",
    "![error](./math_lab2_1.jpg)\n",
    "\n",
    "###  Первая производная\n",
    "| |Левая|Средняя|Правая\n",
    "|-|-|-|-\n",
    "|$y_{k}'$|$${y_{k}-y_{k-1}}\\over h$$|$${y_{k+1}-y_{k-1}}\\over 2h$$|$${y_{k+1}-y_{k}}\\over h$$\n",
    "\n",
    "###  Вторая производная\n",
    "$$\n",
    "y_{k}''\n",
    "=({y_{k}'}_\\text{(левая)})'\n",
    "=({{y_{k}-y_{k-1}}\\over h})'\n",
    "={{{y_{k}'}_\\text{(правая)}-{y_{k-1}'}_\\text{(правая)}}\\over h}\n",
    "=\\\\\n",
    "={{{{y_{k+1}-y_{k}}\\over h}-{{y_{k}-y_{k-1}}\\over h}}\\over h}\n",
    "={(y_{k+1}-y_{k}) - (y_{k}-y_{k-1})\\over h^2}\n",
    "={y_{k+1}-2y_{k}+y_{k-1}\\over h^2}$$\n",
    "\n",
    "### Система\n",
    "$$\n",
    "\\begin{cases}  \n",
    "u(x)y''+ p(x)y=-1,     &x\\in[a,b],\n",
    "\\\\\n",
    "y(a) = A,\n",
    "\\\\\n",
    "y(b) = B,\n",
    "\\end{cases}  \n",
    "=>\n",
    "\\begin{cases}  \n",
    "y_{0} = A,\n",
    "\\\\\n",
    "y_{0}u(x_{1})+(h^2p(x_{1})-2u(x_{1}))y_{1}+y_{2}u(x_{1}) =-h^2,\n",
    "\\\\\n",
    "y_{1}u(x_{2})+(h^2p(x_{2})-2u(x_{2}))y_{2}+y_{3}u(x_{2}) =-h^2,\n",
    "\\\\\n",
    "...\n",
    "\\\\\n",
    "y_{n-2}u(x_{n-1})+(h^2p(x_{n-1})-2u(x_{n-1}))y_{n-1}+y_{n}u(x_{n-1}) =-h^2,\n",
    "\\\\\n",
    "y_{n} = B\n",
    "\\end{cases}  \n",
    "$$\n",
    "\n"
   ]
  },
  {
   "cell_type": "code",
   "execution_count": 2,
   "metadata": {},
   "outputs": [],
   "source": [
    "import sympy\n",
    "import numpy\n",
    "import math\n",
    "import matplotlib.pyplot as pyplot"
   ]
  },
  {
   "cell_type": "code",
   "execution_count": 11,
   "metadata": {},
   "outputs": [],
   "source": [
    "a = -1\n",
    "b = 1\n",
    "A = 0\n",
    "B = 0\n",
    "x, h = sympy.symbols('x h')\n",
    "u = sympy.lambdify(x, sympy.sin(2))\n",
    "p = sympy.lambdify(x, 1 + sympy.cos(2) * x**2)\n",
    "# u = sympy.lambdify(x, 1)\n",
    "# p = sympy.lambdify(x, 1 + x**2)"
   ]
  },
  {
   "cell_type": "code",
   "execution_count": 4,
   "metadata": {},
   "outputs": [],
   "source": [
    "def get_h(n):\n",
    "    return (b-a)/n"
   ]
  },
  {
   "cell_type": "code",
   "execution_count": 5,
   "metadata": {},
   "outputs": [],
   "source": [
    "def get_array_of_x(n):\n",
    "    return numpy.linspace(a, b, n + 1)"
   ]
  },
  {
   "cell_type": "code",
   "execution_count": 6,
   "metadata": {},
   "outputs": [],
   "source": [
    "def get_main_matrix(x, n):\n",
    "    h = get_h(n)\n",
    "    matrix = numpy.zeros(shape=(n+1, n+1))\n",
    "    matrix[0][0] = 1\n",
    "    for i in range(1, n):\n",
    "        matrix[i][i] = h**2 * p(x[i]) - 2 * u(x[i])\n",
    "        matrix[i][i-1] = u(x[i])\n",
    "        matrix[i][i+1] = u(x[i])\n",
    "    matrix[n][n] = 1\n",
    "    return matrix"
   ]
  },
  {
   "cell_type": "code",
   "execution_count": 7,
   "metadata": {},
   "outputs": [],
   "source": [
    "def get_vector(x, n):\n",
    "    h = get_h(n)\n",
    "    vector = [-h**2]*(n+1)\n",
    "    vector[0] = A\n",
    "    vector[n] = B\n",
    "    return vector"
   ]
  },
  {
   "cell_type": "code",
   "execution_count": 12,
   "metadata": {
    "scrolled": true
   },
   "outputs": [
    {
     "data": {
      "image/png": "[encoded data removed]",
      "text/plain": [
       "<Figure size 432x288 with 1 Axes>"
      ]
     },
     "metadata": {
      "needs_background": "light"
     },
     "output_type": "display_data"
    },
    {
     "name": "stdout",
     "output_type": "stream",
     "text": [
      "0.9645128144664943\n"
     ]
    }
   ],
   "source": [
    "n = 10\n",
    "eps = 1e-3\n",
    "max_diff = eps+1\n",
    "# while max_diff > eps:\n",
    "while n < 100:\n",
    "    x1 = get_array_of_x(n)\n",
    "    y1 = numpy.linalg.solve(get_main_matrix(x1, n), get_vector(x1, n))\n",
    "    n *= 2\n",
    "    x2 = get_array_of_x(n)\n",
    "    y2 = numpy.linalg.solve(get_main_matrix(x2, n), get_vector(x2, n))\n",
    "    max_diff = max(abs(y2[i*2] - y1[i]) for i in range(int(n/2)))\n",
    "    pyplot.plot(x2, y2)\n",
    "pyplot.grid()\n",
    "pyplot.show()\n",
    "print(y2[int(n/2)])"
   ]
  },
  {
   "cell_type": "code",
   "execution_count": null,
   "metadata": {},
   "outputs": [],
   "source": []
  }
 ],
 "metadata": {
  "kernelspec": {
   "display_name": "Python 3",
   "language": "python",
   "name": "python3"
  },
  "language_info": {
   "codemirror_mode": {
    "name": "ipython",
    "version": 3
   },
   "file_extension": ".py",
   "mimetype": "text/x-python",
   "name": "python",
   "nbconvert_exporter": "python",
   "pygments_lexer": "ipython3",
   "version": "3.6.8"
  }
 },
 "nbformat": 4,
 "nbformat_minor": 2
}
